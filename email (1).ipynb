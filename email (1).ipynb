{
 "cells": [
  {
   "cell_type": "code",
   "execution_count": 1,
   "id": "da301786-79c3-4892-a53c-50ec7ac547a7",
   "metadata": {},
   "outputs": [],
   "source": [
    "import smtplib\n",
    "import pandas as pd\n",
    "from email.mime.text import MIMEText\n",
    "from email.mime.multipart import MIMEMultipart"
   ]
  },
  {
   "cell_type": "code",
   "execution_count": 2,
   "id": "728962b7-9659-48fc-b90c-8247fc1109a2",
   "metadata": {},
   "outputs": [],
   "source": [
    "CSV_FILE = \"file_name.csv\"   "
   ]
  },
  {
   "cell_type": "code",
   "execution_count": 3,
   "id": "d9f84969-5c6e-4b15-8220-43e75a2a63c9",
   "metadata": {},
   "outputs": [],
   "source": [
    "YOUR_EMAIL = \"username@gmail.com\"\n",
    "APP_PASSWORD = \"16 letters of password\"  # generate from Google Account > Security > App Passwords"
   ]
  },
  {
   "cell_type": "code",
   "execution_count": 4,
   "id": "7f1e13d2-d350-4e57-8d31-75a0976dc9c9",
   "metadata": {},
   "outputs": [],
   "source": [
    "RESUME_LINK = \"https://drive.google.com/file/d/1cVWhQS4BCts4rEbCYc303IAlBjCzKLjm/view?usp=sharing\"\n",
    "PORTFOLIO_LINK = \"https://github.com/viv661\""
   ]
  },
  {
   "cell_type": "code",
   "execution_count": 5,
   "id": "c6542d17-2931-4e67-a45e-a378b2cf12ab",
   "metadata": {},
   "outputs": [],
   "source": [
    "df = pd.read_csv(CSV_FILE)"
   ]
  },
  {
   "cell_type": "code",
   "execution_count": 6,
   "id": "6a6490a0-d325-4aa3-9380-cdee93ff40be",
   "metadata": {},
   "outputs": [
    {
     "data": {
      "text/plain": [
       "(235, b'2.7.0 Accepted')"
      ]
     },
     "execution_count": 6,
     "metadata": {},
     "output_type": "execute_result"
    }
   ],
   "source": [
    "server = smtplib.SMTP(\"smtp.gmail.com\", 587)\n",
    "server.starttls()\n",
    "server.login(YOUR_EMAIL, APP_PASSWORD)"
   ]
  },
  {
   "cell_type": "code",
   "execution_count": null,
   "id": "604fe533-d000-4876-83df-696de6bf52b5",
   "metadata": {},
   "outputs": [
    {
     "name": "stdout",
     "output_type": "stream",
     "text": [
      "✅ Email sent to Anil Chandra (anil.chandra@thoughtspot.com)\n",
      "✅ Email sent to Anil K (anil.k@corestack.io)\n",
      "✅ Email sent to Anil Moturi (anil.moturi@solugenix.com)\n",
      "✅ Email sent to Anil Pereira (anil.pereira@visiblealpha.com)\n"
     ]
    }
   ],
   "source": [
    "\n",
    "for index, row in df.iterrows():\n",
    "    hr_name = row[\"Name\"].strip().title() if pd.notna(row[\"Name\"]) else \"Hiring Manager\"\n",
    "    hr_email = row[\"Email\"].strip()\n",
    "\n",
    "    msg = MIMEMultipart()\n",
    "    msg[\"From\"] = YOUR_EMAIL\n",
    "    msg[\"To\"] = hr_email\n",
    "    msg[\"Subject\"] = \"Referral Request – Excited to Contribute for Data Analyst/ Junior Data Scientist / Business Analyst Role\"\n",
    "\n",
    "    \n",
    "    body = f\"\"\"\n",
    "    Hi {hr_name},\n",
    "\n",
    "    I am writing to express my interest in opportunities within your organization for roles such as \n",
    "    Data Analyst, Junior Data Scientist, or Business Analyst. With my strong background in SQL,Python,Advance Excel,Data Mining,Statistics & Probability\n",
    "    Power BI, and machine learning techniques, I am confident in my ability to contribute meaningfully.\n",
    "\n",
    "    Resume: {RESUME_LINK}  \n",
    "    Portfolio: {PORTFOLIO_LINK}  \n",
    "\n",
    "    I would be grateful if you could review my profile and consider me for any suitable openings.  \n",
    "    Looking forward to your response.\n",
    "\n",
    "    Best regards,  \n",
    "    Vivek Kumar  \n",
    "    Data Analyst | Business Analyst | Junior Data Scientist  \n",
    "    +91-9798551227 | reijecheteinstein@gmail.com \n",
    "\n",
    "    \"\"\"\n",
    "\n",
    "    msg.attach(MIMEText(body, \"plain\"))\n",
    "\n",
    "    # ==== SEND EMAIL ====\n",
    "    try:\n",
    "        server.sendmail(YOUR_EMAIL, hr_email, msg.as_string())\n",
    "        print(f\"Email sent to {hr_name} ({hr_email})\")\n",
    "    except Exception as e:\n",
    "        print(f\"❌ Failed to send to {hr_email}: {e}\")\n",
    "\n",
    "server.quit()"
   ]
  },
  {
   "cell_type": "code",
   "execution_count": null,
   "id": "41e685b1-ab1a-44e2-88dc-851c4b469afe",
   "metadata": {},
   "outputs": [],
   "source": []
  },
  {
   "cell_type": "code",
   "execution_count": null,
   "id": "43ddfbe1-b04f-4123-95eb-b0d864fd317e",
   "metadata": {},
   "outputs": [],
   "source": []
  },
  {
   "cell_type": "code",
   "execution_count": null,
   "id": "0103290b-8a1b-4d14-8126-029e2f39b33f",
   "metadata": {},
   "outputs": [],
   "source": []
  }
 ],
 "metadata": {
  "kernelspec": {
   "display_name": "Python 3 (ipykernel)",
   "language": "python",
   "name": "python3"
  },
  "language_info": {
   "codemirror_mode": {
    "name": "ipython",
    "version": 3
   },
   "file_extension": ".py",
   "mimetype": "text/x-python",
   "name": "python",
   "nbconvert_exporter": "python",
   "pygments_lexer": "ipython3",
   "version": "3.12.5"
  }
 },
 "nbformat": 4,
 "nbformat_minor": 5
}
